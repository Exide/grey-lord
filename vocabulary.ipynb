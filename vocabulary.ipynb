{
 "cells": [
  {
   "cell_type": "code",
   "execution_count": 1,
   "id": "2f53699a-2978-45a8-9405-a701f9c1c894",
   "metadata": {},
   "outputs": [],
   "source": [
    "PAD_TOKEN = 256\n",
    "CLIENT_TOKEN = 257\n",
    "SERVER_TOKEN = 258\n",
    "DELAY_SHORT_TOKEN = 259  # 0-1s\n",
    "DELAY_MEDIUM_TOKEN = 260 # 1-5s\n",
    "DELAY_LONG_TOKEN = 261   # >5s"
   ]
  },
  {
   "cell_type": "code",
   "execution_count": 2,
   "id": "7b0a2b40-67c0-471f-8329-ad97ca3ccae3",
   "metadata": {},
   "outputs": [],
   "source": [
    "vocab_to_int = {\n",
    "    '<|pad|>': PAD_TOKEN,\n",
    "    '<|client|>': CLIENT_TOKEN,\n",
    "    '<|server|>': SERVER_TOKEN,\n",
    "    '<|delay_short|>': DELAY_SHORT_TOKEN,\n",
    "    '<|delay_medium|>': DELAY_MEDIUM_TOKEN,\n",
    "    '<|delay_long|>': DELAY_LONG_TOKEN,\n",
    "}"
   ]
  },
  {
   "cell_type": "code",
   "execution_count": 3,
   "id": "65d7c51d-3a36-466d-9aca-71d547b68e26",
   "metadata": {},
   "outputs": [],
   "source": [
    "for i in range(256):\n",
    "    vocab_to_int[f'byte_{i}'] = i"
   ]
  },
  {
   "cell_type": "code",
   "execution_count": 4,
   "id": "4c6ef73d-d8ee-4b29-bcb3-2d4bc59524fd",
   "metadata": {},
   "outputs": [],
   "source": [
    "int_to_vocab = {integer_id: token for token, integer_id in vocab_to_int.items()}"
   ]
  },
  {
   "cell_type": "code",
   "execution_count": 5,
   "id": "e892020a-21ad-4639-9a7d-9a95052029ab",
   "metadata": {},
   "outputs": [
    {
     "name": "stdout",
     "output_type": "stream",
     "text": [
      "Total vocabulary size: 262\n",
      "\n",
      "--- Example Mappings ---\n",
      "The token '<|client|>' is mapped to the integer: 257\n",
      "The integer 65 is mapped to the token: 'byte_65' (ASCII for 'A')\n",
      "The integer 255 is mapped to the token: 'byte_255'\n",
      "The integer 260 is mapped to the token: '<|delay_medium|>'\n"
     ]
    }
   ],
   "source": [
    "print(f\"Total vocabulary size: {len(vocab_to_int)}\")\n",
    "print(\"\\n--- Example Mappings ---\")\n",
    "print(f\"The token '<|client|>' is mapped to the integer: {vocab_to_int['<|client|>']}\")\n",
    "print(f\"The integer 65 is mapped to the token: '{int_to_vocab[65]}' (ASCII for 'A')\")\n",
    "print(f\"The integer 255 is mapped to the token: '{int_to_vocab[255]}'\")\n",
    "print(f\"The integer {DELAY_MEDIUM_TOKEN} is mapped to the token: '{int_to_vocab[DELAY_MEDIUM_TOKEN]}'\")"
   ]
  },
  {
   "cell_type": "code",
   "execution_count": 7,
   "id": "6e943900-523d-4308-8837-5406b075cc15",
   "metadata": {},
   "outputs": [],
   "source": [
    "import json\n",
    "\n",
    "with open(\"vocab_to_int.json\", 'w') as f:\n",
    "    json.dump(vocab_to_int, f, indent=4)\n",
    "\n",
    "with open(\"int_to_vocab.json\", 'w') as f:\n",
    "    json.dump(int_to_vocab, f, indent=4)"
   ]
  },
  {
   "cell_type": "code",
   "execution_count": null,
   "id": "31ad5606-dce0-455a-a6f2-393f8ec2300e",
   "metadata": {},
   "outputs": [],
   "source": []
  }
 ],
 "metadata": {
  "kernelspec": {
   "display_name": "Python 3 (ipykernel)",
   "language": "python",
   "name": "python3"
  },
  "language_info": {
   "codemirror_mode": {
    "name": "ipython",
    "version": 3
   },
   "file_extension": ".py",
   "mimetype": "text/x-python",
   "name": "python",
   "nbconvert_exporter": "python",
   "pygments_lexer": "ipython3",
   "version": "3.12.11"
  }
 },
 "nbformat": 4,
 "nbformat_minor": 5
}
